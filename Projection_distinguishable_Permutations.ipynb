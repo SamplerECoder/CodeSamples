{
 "cells": [
  {
   "metadata": {
    "ExecuteTime": {
     "end_time": "2024-07-17T11:53:12.291803Z",
     "start_time": "2024-07-17T11:53:12.283312Z"
    }
   },
   "cell_type": "code",
   "source": [
    "from itertools import permutations\n",
    "\n",
    "n=4"
   ],
   "id": "2a0dca7e55d6cdb6",
   "outputs": [],
   "execution_count": 1
  },
  {
   "metadata": {
    "ExecuteTime": {
     "end_time": "2024-07-17T11:53:12.298315Z",
     "start_time": "2024-07-17T11:53:12.293800Z"
    }
   },
   "cell_type": "code",
   "source": [
    "\"\"\"\n",
    "Permutations are given as list!\n",
    "\"\"\"\n",
    "def conflict_free(a,b):\n",
    "    for i in range(len(a)):\n",
    "        a_ = a.copy()\n",
    "        b_ = b.copy()\n",
    "        a_.remove(i)\n",
    "        b_.remove(i)\n",
    "        if (a_ == b_):\n",
    "            return False\n",
    "        \n",
    "    return True\n",
    "        \n",
    "        "
   ],
   "id": "6ad6271d5d644b4d",
   "outputs": [],
   "execution_count": 2
  },
  {
   "metadata": {
    "ExecuteTime": {
     "end_time": "2024-07-17T11:53:12.356431Z",
     "start_time": "2024-07-17T11:53:12.299300Z"
    }
   },
   "cell_type": "code",
   "source": [
    "n=6\n",
    "current_set = []\n",
    "for permutation in [list(x) for x in permutations(range(n))]:\n",
    "    all_conflict_free = True\n",
    "    for element in current_set:\n",
    "        if not conflict_free(element, permutation):\n",
    "            all_conflict_free = False\n",
    "            break\n",
    "    if all_conflict_free:\n",
    "        current_set.append(permutation)\n",
    "    else:\n",
    "        continue\n",
    "    \n",
    "print(len(current_set))"
   ],
   "id": "4d0f32b006d5184f",
   "outputs": [
    {
     "name": "stdout",
     "output_type": "stream",
     "text": [
      "103\n"
     ]
    }
   ],
   "execution_count": 3
  },
  {
   "metadata": {},
   "cell_type": "code",
   "outputs": [],
   "execution_count": null,
   "source": "",
   "id": "3dd3d4f79a64baf4"
  }
 ],
 "metadata": {
  "kernelspec": {
   "display_name": "Python 3",
   "language": "python",
   "name": "python3"
  },
  "language_info": {
   "codemirror_mode": {
    "name": "ipython",
    "version": 2
   },
   "file_extension": ".py",
   "mimetype": "text/x-python",
   "name": "python",
   "nbconvert_exporter": "python",
   "pygments_lexer": "ipython2",
   "version": "2.7.6"
  }
 },
 "nbformat": 4,
 "nbformat_minor": 5
}
